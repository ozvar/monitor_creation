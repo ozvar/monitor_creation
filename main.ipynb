{
 "cells": [
  {
   "cell_type": "code",
   "execution_count": 1,
   "id": "17bd73f9-5503-45c9-8e45-b85149962644",
   "metadata": {},
   "outputs": [],
   "source": [
    "import os\n",
    "import sys\n",
    "\n",
    "sys.path.append(os.path.join(os.getcwd(), 'monitor'))\n",
    "\n",
    "from monitor import *\n",
    "\n",
    "## Tensorflow log level currently set to 1 (ERROR), reduce to supress tensorflow logs"
   ]
  },
  {
   "cell_type": "markdown",
   "id": "480e71ce-28a9-4f21-9989-a7337457e2c2",
   "metadata": {},
   "source": [
    "### Declare parameters (see parameters.py)"
   ]
  },
  {
   "cell_type": "code",
   "execution_count": 8,
   "id": "586cfbc0-88d7-4e12-a4e0-f7b466ea99ab",
   "metadata": {},
   "outputs": [],
   "source": [
    "# monitor parameters\n",
    "TRANSF = [0, 0.2, 0.5, 0.8, 1]\n",
    "ACC_BOUNDS = [0.70, 0.40]\n",
    "K_FOLDS = 3\n",
    "\n",
    "# in- and output directories\n",
    "DATA_DIR = 'transformations'\n",
    "MODEL_DIR = 'models'\n",
    "\n",
    "# target dataset and model for the monitor\n",
    "DATASET = 'gtsrb'\n",
    "MODEL = 'model3b.h5'"
   ]
  },
  {
   "cell_type": "markdown",
   "id": "8b8fe2ea-7733-4ce3-a6fd-616bcb861ef2",
   "metadata": {},
   "source": [
    "### Generate degraded datasets based on combinations of transformations"
   ]
  },
  {
   "cell_type": "code",
   "execution_count": 2,
   "id": "fa5eb8a0-e6e5-439a-a2ea-8d2942a5cbe8",
   "metadata": {},
   "outputs": [
    {
     "data": {
      "text/plain": [
       "[[0, 0, 0], [0, 0, 0.2], [0, 0, 0.5], [0, 0, 0.8], [0, 0, 1]]"
      ]
     },
     "execution_count": 2,
     "metadata": {},
     "output_type": "execute_result"
    }
   ],
   "source": [
    "## gen_datasets_from_transforms, in combineTransform.py\n",
    "\n",
    "# hard coding number of influencing factors for now\n",
    "alltransf = [TRANSF]*3\n",
    "comb_prod = combinatorial_transf(alltransf)\n",
    "# preparing for option to train on CIFAR too\n",
    "if DATASET == 'gtsrb': \n",
    "    [X_train, y_train, X_test, y_test, labels] = load_gtsrb()\n",
    "\n",
    "comb_prod[:5]"
   ]
  },
  {
   "cell_type": "code",
   "execution_count": 4,
   "id": "916aee9b-2a45-4ab7-b675-b16d453c83d8",
   "metadata": {},
   "outputs": [],
   "source": [
    "## example dataset, uses functions in trasform.py (pulled from DeepCERT repo) to transform data\n",
    "test_degrade = create_dataset(\n",
    "    data=X_test,\n",
    "    transf=comb_prod[42]\n",
    ")"
   ]
  },
  {
   "cell_type": "markdown",
   "id": "59e5589c-4a11-4e96-84f3-ea56c14d768a",
   "metadata": {},
   "source": [
    "- This cell generates all datasets and saves them under 'transformations'"
   ]
  },
  {
   "cell_type": "code",
   "execution_count": 5,
   "id": "b0e5f6bd-2586-4909-bf0f-64e76bb19bd5",
   "metadata": {},
   "outputs": [],
   "source": [
    "# createalldatasets(\n",
    "#    data=X_test,\n",
    "#    allcombtransf=comb_prod,\n",
    "#    out_dir=DATA_DIR)"
   ]
  },
  {
   "cell_type": "markdown",
   "id": "410359ad-091a-45bf-ac05-990734d87135",
   "metadata": {},
   "source": [
    "### Test model on degraded datasets and generate labels based on accuracy class"
   ]
  },
  {
   "cell_type": "code",
   "execution_count": 6,
   "id": "73da76c3-bb99-4e87-86e1-05c3aa1497ad",
   "metadata": {},
   "outputs": [
    {
     "name": "stderr",
     "output_type": "stream",
     "text": [
      "2023-10-16 12:33:21.962463: I tensorflow/compiler/jit/xla_cpu_device.cc:41] Not creating XLA devices, tf_xla_enable_xla_devices not set\n",
      "2023-10-16 12:33:21.962703: I tensorflow/core/platform/cpu_feature_guard.cc:142] This TensorFlow binary is optimized with oneAPI Deep Neural Network Library (oneDNN) to use the following CPU instructions in performance-critical operations:  AVX2 FMA\n",
      "To enable them in other operations, rebuild TensorFlow with the appropriate compiler flags.\n"
     ]
    }
   ],
   "source": [
    "## labelData\n",
    "model = tf.keras.models.load_model(os.path.join(MODEL_DIR, DATASET, MODEL))"
   ]
  },
  {
   "cell_type": "markdown",
   "id": "375464ee-6b2f-4f73-b3c0-466a2f9528bd",
   "metadata": {},
   "source": [
    "- This cell creates an array of values describing accuracy of the model for each degraded dataset generated earlier\n",
    "- (Needs adjustments to function if accuracy has already been generated)"
   ]
  },
  {
   "cell_type": "code",
   "execution_count": 26,
   "id": "5a57e434-aa9b-40d0-a067-d723b8e8696d",
   "metadata": {
    "scrolled": true
   },
   "outputs": [
    {
     "name": "stdout",
     "output_type": "stream",
     "text": [
      "[0.98004866 0.94330901 0.7021898  0.50900245 0.41484186 0.97493917\n",
      " 0.93941605 0.69051093 0.49270073 0.40048662 0.95109487 0.91484183\n",
      " 0.66739661 0.44817519 0.356691   0.48686132 0.52895379 0.38442823\n",
      " 0.24817519 0.19270073 0.14744526 0.15109488 0.14549878 0.15425791\n",
      " 0.14768857 0.95912409 0.96715331 0.94403893 0.66593677 0.4888078\n",
      " 0.95036495 0.95936739 0.93795621 0.6435523  0.46204379 0.89635038\n",
      " 0.92725062 0.91557175 0.5973236  0.39124086 0.40583941 0.4513382\n",
      " 0.54574209 0.35888079 0.23479319 0.13381995 0.14257908 0.17372262\n",
      " 0.16399027 0.17445256 0.81021899 0.83892941 0.82506084 0.49781021\n",
      " 0.18248175 0.78783453 0.81240875 0.79829681 0.47931874 0.18248175\n",
      " 0.7114355  0.72287107 0.71411192 0.43698296 0.18248175 0.27785888\n",
      " 0.29197079 0.30291972 0.21703163 0.18248175 0.18321168 0.18321168\n",
      " 0.19099757 0.18540145 0.18248175 0.44330901 0.30705595 0.18248175\n",
      " 0.18248175 0.18248175 0.41192213 0.28832117 0.18248175 0.18248175\n",
      " 0.18248175 0.33454987 0.23844282 0.18248175 0.18248175 0.18248175\n",
      " 0.18272506 0.18248175 0.18248175 0.18248175 0.18248175 0.18248175\n",
      " 0.18248175 0.18248175 0.18248175 0.18248175 0.18248175 0.18248175\n",
      " 0.18248175 0.18248175 0.18248175 0.18248175 0.18248175 0.18248175\n",
      " 0.18248175 0.18248175 0.18248175 0.18248175 0.18248175 0.18248175\n",
      " 0.18248175 0.18248175 0.18248175 0.18248175 0.18248175 0.18248175\n",
      " 0.18248175 0.18248175 0.18248175 0.18248175 0.18248175]\n"
     ]
    }
   ],
   "source": [
    "acc_path = os.path.join(DATA_DIR, 'accuracy.npy')\n",
    "\n",
    "if not os.path.isfile(acc_path):\n",
    "    print(y_test)\n",
    "    acc = computePerformance(\n",
    "        model=model,\n",
    "        data_dir=DATA_DIR,\n",
    "        labels=y_test)\n",
    "    np.save(os.path.join(DATA_DIR, 'accuracy'), acc)\n",
    "else: acc = np.load(acc_path)\n",
    "\n",
    "print(acc)\n"
   ]
  },
  {
   "cell_type": "markdown",
   "id": "3a017144-a126-4d7a-932f-6141a922ada5",
   "metadata": {},
   "source": [
    "- This cell saves accuracy for each degraded dataset"
   ]
  },
  {
   "cell_type": "code",
   "execution_count": 27,
   "id": "83b123e5-2c64-4c17-b10d-bbfc19a041c5",
   "metadata": {
    "collapsed": true,
    "jupyter": {
     "outputs_hidden": true
    }
   },
   "outputs": [
    {
     "name": "stdout",
     "output_type": "stream",
     "text": [
      "[[0.98004866 0.        ]\n",
      " [0.94330901 0.        ]\n",
      " [0.7021898  0.        ]\n",
      " [0.50900245 1.        ]\n",
      " [0.41484186 1.        ]\n",
      " [0.97493917 0.        ]\n",
      " [0.93941605 0.        ]\n",
      " [0.69051093 1.        ]\n",
      " [0.49270073 1.        ]\n",
      " [0.40048662 1.        ]\n",
      " [0.95109487 0.        ]\n",
      " [0.91484183 0.        ]\n",
      " [0.66739661 1.        ]\n",
      " [0.44817519 1.        ]\n",
      " [0.356691   2.        ]\n",
      " [0.48686132 1.        ]\n",
      " [0.52895379 1.        ]\n",
      " [0.38442823 2.        ]\n",
      " [0.24817519 2.        ]\n",
      " [0.19270073 2.        ]\n",
      " [0.14744526 2.        ]\n",
      " [0.15109488 2.        ]\n",
      " [0.14549878 2.        ]\n",
      " [0.15425791 2.        ]\n",
      " [0.14768857 2.        ]\n",
      " [0.95912409 0.        ]\n",
      " [0.96715331 0.        ]\n",
      " [0.94403893 0.        ]\n",
      " [0.66593677 1.        ]\n",
      " [0.4888078  1.        ]\n",
      " [0.95036495 0.        ]\n",
      " [0.95936739 0.        ]\n",
      " [0.93795621 0.        ]\n",
      " [0.6435523  1.        ]\n",
      " [0.46204379 1.        ]\n",
      " [0.89635038 0.        ]\n",
      " [0.92725062 0.        ]\n",
      " [0.91557175 0.        ]\n",
      " [0.5973236  1.        ]\n",
      " [0.39124086 2.        ]\n",
      " [0.40583941 1.        ]\n",
      " [0.4513382  1.        ]\n",
      " [0.54574209 1.        ]\n",
      " [0.35888079 2.        ]\n",
      " [0.23479319 2.        ]\n",
      " [0.13381995 2.        ]\n",
      " [0.14257908 2.        ]\n",
      " [0.17372262 2.        ]\n",
      " [0.16399027 2.        ]\n",
      " [0.17445256 2.        ]\n",
      " [0.81021899 0.        ]\n",
      " [0.83892941 0.        ]\n",
      " [0.82506084 0.        ]\n",
      " [0.49781021 1.        ]\n",
      " [0.18248175 2.        ]\n",
      " [0.78783453 0.        ]\n",
      " [0.81240875 0.        ]\n",
      " [0.79829681 0.        ]\n",
      " [0.47931874 1.        ]\n",
      " [0.18248175 2.        ]\n",
      " [0.7114355  0.        ]\n",
      " [0.72287107 0.        ]\n",
      " [0.71411192 0.        ]\n",
      " [0.43698296 1.        ]\n",
      " [0.18248175 2.        ]\n",
      " [0.27785888 2.        ]\n",
      " [0.29197079 2.        ]\n",
      " [0.30291972 2.        ]\n",
      " [0.21703163 2.        ]\n",
      " [0.18248175 2.        ]\n",
      " [0.18321168 2.        ]\n",
      " [0.18321168 2.        ]\n",
      " [0.19099757 2.        ]\n",
      " [0.18540145 2.        ]\n",
      " [0.18248175 2.        ]\n",
      " [0.44330901 1.        ]\n",
      " [0.30705595 2.        ]\n",
      " [0.18248175 2.        ]\n",
      " [0.18248175 2.        ]\n",
      " [0.18248175 2.        ]\n",
      " [0.41192213 1.        ]\n",
      " [0.28832117 2.        ]\n",
      " [0.18248175 2.        ]\n",
      " [0.18248175 2.        ]\n",
      " [0.18248175 2.        ]\n",
      " [0.33454987 2.        ]\n",
      " [0.23844282 2.        ]\n",
      " [0.18248175 2.        ]\n",
      " [0.18248175 2.        ]\n",
      " [0.18248175 2.        ]\n",
      " [0.18272506 2.        ]\n",
      " [0.18248175 2.        ]\n",
      " [0.18248175 2.        ]\n",
      " [0.18248175 2.        ]\n",
      " [0.18248175 2.        ]\n",
      " [0.18248175 2.        ]\n",
      " [0.18248175 2.        ]\n",
      " [0.18248175 2.        ]\n",
      " [0.18248175 2.        ]\n",
      " [0.18248175 2.        ]\n",
      " [0.18248175 2.        ]\n",
      " [0.18248175 2.        ]\n",
      " [0.18248175 2.        ]\n",
      " [0.18248175 2.        ]\n",
      " [0.18248175 2.        ]\n",
      " [0.18248175 2.        ]\n",
      " [0.18248175 2.        ]\n",
      " [0.18248175 2.        ]\n",
      " [0.18248175 2.        ]\n",
      " [0.18248175 2.        ]\n",
      " [0.18248175 2.        ]\n",
      " [0.18248175 2.        ]\n",
      " [0.18248175 2.        ]\n",
      " [0.18248175 2.        ]\n",
      " [0.18248175 2.        ]\n",
      " [0.18248175 2.        ]\n",
      " [0.18248175 2.        ]\n",
      " [0.18248175 2.        ]\n",
      " [0.18248175 2.        ]\n",
      " [0.18248175 2.        ]\n",
      " [0.18248175 2.        ]\n",
      " [0.18248175 2.        ]\n",
      " [0.18248175 2.        ]\n",
      " [0.18248175 2.        ]\n",
      " [0.18248175 2.        ]]\n"
     ]
    }
   ],
   "source": [
    "lab_path = os.path.join(DATA_DIR, 'labDatasets.npy')\n",
    "\n",
    "if not os.path.isfile(lab_path):\n",
    "    labels = np.array(ACC_BOUNDS)\n",
    "    labData = labelDataset(acc, labels)\n",
    "    print(labData[0][1])\n",
    "    np.save(os.path.join(DATA_DIR, 'labDatasets'), labData)\n",
    "else:\n",
    "    labData = np.load(lab_path)\n",
    "\n",
    "print(labData)"
   ]
  },
  {
   "cell_type": "markdown",
   "id": "5ab7dba5-e957-4156-98ae-a23bfa6e7f5f",
   "metadata": {},
   "source": [
    "### Select and prepare labelled datasets from each class for training"
   ]
  },
  {
   "cell_type": "code",
   "execution_count": 5,
   "id": "daa5110c-2ff8-4bac-b2c8-a27939eb30f5",
   "metadata": {},
   "outputs": [],
   "source": [
    "## prepareData"
   ]
  },
  {
   "cell_type": "markdown",
   "id": "46e25969-9ad7-4374-93e5-633bb5a1a873",
   "metadata": {},
   "source": [
    "### Train the monitor"
   ]
  },
  {
   "cell_type": "code",
   "execution_count": 2,
   "id": "44bfa963-a177-4852-8052-0531bb5191ff",
   "metadata": {},
   "outputs": [
    {
     "name": "stderr",
     "output_type": "stream",
     "text": [
      "2023-10-15 21:43:19.478300: I tensorflow/compiler/jit/xla_cpu_device.cc:41] Not creating XLA devices, tf_xla_enable_xla_devices not set\n",
      "2023-10-15 21:43:19.478495: I tensorflow/core/platform/cpu_feature_guard.cc:142] This TensorFlow binary is optimized with oneAPI Deep Neural Network Library (oneDNN) to use the following CPU instructions in performance-critical operations:  AVX2 FMA\n",
      "To enable them in other operations, rebuild TensorFlow with the appropriate compiler flags.\n"
     ]
    },
    {
     "name": "stdout",
     "output_type": "stream",
     "text": [
      "Test Set\n",
      "(24660, 32, 32, 3)\n",
      "(24660, 3)\n"
     ]
    },
    {
     "name": "stderr",
     "output_type": "stream",
     "text": [
      "2023-10-15 21:43:19.859342: W tensorflow/core/framework/cpu_allocator_impl.cc:80] Allocation of 303022080 exceeds 10% of free system memory.\n",
      "2023-10-15 21:43:20.075368: I tensorflow/compiler/mlir/mlir_graph_optimization_pass.cc:116] None of the MLIR optimization passes are enabled (registered 2)\n",
      "2023-10-15 21:43:20.075602: I tensorflow/core/platform/profile_utils/cpu_utils.cc:112] CPU Frequency: 3600520000 Hz\n"
     ]
    },
    {
     "name": "stdout",
     "output_type": "stream",
     "text": [
      "771/771 [==============================] - 35s 45ms/step - loss: 0.4668 - categorical_accuracy: 0.8420\n",
      "[0.4608250856399536, 0.8427818417549133]\n",
      "  3/771 [..............................] - ETA: 34s - loss: 0.1495 - categorical_accuracy: 0.9479"
     ]
    },
    {
     "name": "stderr",
     "output_type": "stream",
     "text": [
      "2023-10-15 21:43:55.508401: W tensorflow/core/framework/cpu_allocator_impl.cc:80] Allocation of 303022080 exceeds 10% of free system memory.\n"
     ]
    },
    {
     "name": "stdout",
     "output_type": "stream",
     "text": [
      "771/771 [==============================] - 35s 46ms/step - loss: 0.2227 - categorical_accuracy: 0.9173\n",
      "[0.22266189754009247, 0.9173154830932617]\n",
      "  2/771 [..............................] - ETA: 41s - loss: 0.1125 - categorical_accuracy: 0.9844"
     ]
    },
    {
     "name": "stderr",
     "output_type": "stream",
     "text": [
      "2023-10-15 21:44:31.097964: W tensorflow/core/framework/cpu_allocator_impl.cc:80] Allocation of 303022080 exceeds 10% of free system memory.\n"
     ]
    },
    {
     "name": "stdout",
     "output_type": "stream",
     "text": [
      "771/771 [==============================] - 36s 46ms/step - loss: 0.1643 - categorical_accuracy: 0.9374\n",
      "[0.1642969846725464, 0.9373884797096252]\n"
     ]
    }
   ],
   "source": [
    "trainMonitor(\n",
    "    model_dir=MODEL_DIR,\n",
    "    k_fold=3,\n",
    "    train=False)"
   ]
  },
  {
   "cell_type": "code",
   "execution_count": null,
   "id": "e98c3591-48c9-4969-9b06-d7a362ec32f2",
   "metadata": {},
   "outputs": [],
   "source": []
  }
 ],
 "metadata": {
  "kernelspec": {
   "display_name": "Python 3 (ipykernel)",
   "language": "python",
   "name": "python3"
  },
  "language_info": {
   "codemirror_mode": {
    "name": "ipython",
    "version": 3
   },
   "file_extension": ".py",
   "mimetype": "text/x-python",
   "name": "python",
   "nbconvert_exporter": "python",
   "pygments_lexer": "ipython3",
   "version": "3.8.1"
  }
 },
 "nbformat": 4,
 "nbformat_minor": 5
}
