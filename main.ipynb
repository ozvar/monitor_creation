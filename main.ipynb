{
 "cells": [
  {
   "cell_type": "code",
   "execution_count": 1,
   "id": "17bd73f9-5503-45c9-8e45-b85149962644",
   "metadata": {},
   "outputs": [],
   "source": [
    "import os\n",
    "import sys\n",
    "\n",
    "sys.path.append(os.path.join(os.getcwd(), 'monitor'))\n",
    "\n",
    "from monitor import *"
   ]
  },
  {
   "cell_type": "markdown",
   "id": "8b8fe2ea-7733-4ce3-a6fd-616bcb861ef2",
   "metadata": {},
   "source": [
    "### Generate combinations of epsilon for transformation"
   ]
  },
  {
   "cell_type": "code",
   "execution_count": null,
   "id": "fa5eb8a0-e6e5-439a-a2ea-8d2942a5cbe8",
   "metadata": {},
   "outputs": [],
   "source": [
    "## combineTransform"
   ]
  },
  {
   "cell_type": "markdown",
   "id": "410359ad-091a-45bf-ac05-990734d87135",
   "metadata": {},
   "source": [
    "### Create and label degraded dataset for each epsilon combination"
   ]
  },
  {
   "cell_type": "code",
   "execution_count": 4,
   "id": "73da76c3-bb99-4e87-86e1-05c3aa1497ad",
   "metadata": {},
   "outputs": [],
   "source": [
    "## labelData"
   ]
  },
  {
   "cell_type": "markdown",
   "id": "5ab7dba5-e957-4156-98ae-a23bfa6e7f5f",
   "metadata": {},
   "source": [
    "### Select and prepare labelled datasets from each class for training"
   ]
  },
  {
   "cell_type": "code",
   "execution_count": 5,
   "id": "daa5110c-2ff8-4bac-b2c8-a27939eb30f5",
   "metadata": {},
   "outputs": [],
   "source": [
    "## prepareData"
   ]
  },
  {
   "cell_type": "markdown",
   "id": "46e25969-9ad7-4374-93e5-633bb5a1a873",
   "metadata": {},
   "source": [
    "### Train the monitor"
   ]
  },
  {
   "cell_type": "code",
   "execution_count": 2,
   "id": "44bfa963-a177-4852-8052-0531bb5191ff",
   "metadata": {},
   "outputs": [
    {
     "name": "stderr",
     "output_type": "stream",
     "text": [
      "2023-10-15 21:43:19.478300: I tensorflow/compiler/jit/xla_cpu_device.cc:41] Not creating XLA devices, tf_xla_enable_xla_devices not set\n",
      "2023-10-15 21:43:19.478495: I tensorflow/core/platform/cpu_feature_guard.cc:142] This TensorFlow binary is optimized with oneAPI Deep Neural Network Library (oneDNN) to use the following CPU instructions in performance-critical operations:  AVX2 FMA\n",
      "To enable them in other operations, rebuild TensorFlow with the appropriate compiler flags.\n"
     ]
    },
    {
     "name": "stdout",
     "output_type": "stream",
     "text": [
      "Test Set\n",
      "(24660, 32, 32, 3)\n",
      "(24660, 3)\n"
     ]
    },
    {
     "name": "stderr",
     "output_type": "stream",
     "text": [
      "2023-10-15 21:43:19.859342: W tensorflow/core/framework/cpu_allocator_impl.cc:80] Allocation of 303022080 exceeds 10% of free system memory.\n",
      "2023-10-15 21:43:20.075368: I tensorflow/compiler/mlir/mlir_graph_optimization_pass.cc:116] None of the MLIR optimization passes are enabled (registered 2)\n",
      "2023-10-15 21:43:20.075602: I tensorflow/core/platform/profile_utils/cpu_utils.cc:112] CPU Frequency: 3600520000 Hz\n"
     ]
    },
    {
     "name": "stdout",
     "output_type": "stream",
     "text": [
      "771/771 [==============================] - 35s 45ms/step - loss: 0.4668 - categorical_accuracy: 0.8420\n",
      "[0.4608250856399536, 0.8427818417549133]\n",
      "  3/771 [..............................] - ETA: 34s - loss: 0.1495 - categorical_accuracy: 0.9479"
     ]
    },
    {
     "name": "stderr",
     "output_type": "stream",
     "text": [
      "2023-10-15 21:43:55.508401: W tensorflow/core/framework/cpu_allocator_impl.cc:80] Allocation of 303022080 exceeds 10% of free system memory.\n"
     ]
    },
    {
     "name": "stdout",
     "output_type": "stream",
     "text": [
      "771/771 [==============================] - 35s 46ms/step - loss: 0.2227 - categorical_accuracy: 0.9173\n",
      "[0.22266189754009247, 0.9173154830932617]\n",
      "  2/771 [..............................] - ETA: 41s - loss: 0.1125 - categorical_accuracy: 0.9844"
     ]
    },
    {
     "name": "stderr",
     "output_type": "stream",
     "text": [
      "2023-10-15 21:44:31.097964: W tensorflow/core/framework/cpu_allocator_impl.cc:80] Allocation of 303022080 exceeds 10% of free system memory.\n"
     ]
    },
    {
     "name": "stdout",
     "output_type": "stream",
     "text": [
      "771/771 [==============================] - 36s 46ms/step - loss: 0.1643 - categorical_accuracy: 0.9374\n",
      "[0.1642969846725464, 0.9373884797096252]\n"
     ]
    }
   ],
   "source": [
    "trainMonitor(\n",
    "    model_dir=MODEL_DIR,\n",
    "    k_fold=3,\n",
    "    train=False)"
   ]
  }
 ],
 "metadata": {
  "kernelspec": {
   "display_name": "Python 3 (ipykernel)",
   "language": "python",
   "name": "python3"
  },
  "language_info": {
   "codemirror_mode": {
    "name": "ipython",
    "version": 3
   },
   "file_extension": ".py",
   "mimetype": "text/x-python",
   "name": "python",
   "nbconvert_exporter": "python",
   "pygments_lexer": "ipython3",
   "version": "3.8.1"
  }
 },
 "nbformat": 4,
 "nbformat_minor": 5
}
